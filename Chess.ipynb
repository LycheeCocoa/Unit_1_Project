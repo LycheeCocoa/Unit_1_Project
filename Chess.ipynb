{
 "cells": [
  {
   "cell_type": "code",
   "execution_count": 40,
   "source": [
    "import pandas as pd\r\n",
    "import numpy as np\r\n",
    "import seaborn as sns\r\n",
    "import chess.pgn\r\n",
    "import seaborn as sns\r\n",
    "import chessdotcom as chess\r\n",
    "from matplotlib import pyplot as plt\r\n",
    "from scipy import stats as stats\r\n",
    "from statsmodels.formula.api import ols\r\n"
   ],
   "outputs": [],
   "metadata": {}
  },
  {
   "cell_type": "code",
   "execution_count": 2,
   "source": [
    "chess_com = pd.read_csv('Data/games.csv')\r\n",
    "kaggle = pd.read_csv('Data/club_games_data.csv')\r\n",
    "caissabase = pd.read_csv('Data/chessdb.csv')\r\n",
    "elo = pd.read_csv('Data/elo.csv') "
   ],
   "outputs": [],
   "metadata": {}
  },
  {
   "cell_type": "code",
   "execution_count": null,
   "source": [
    "pgn = open('Data/chessdb.pgn', encoding='utf-8')\r\n",
    "header_list = []\r\n",
    "\r\n",
    "# while len(header_list) < 1000:\r\n",
    "while True:\r\n",
    "    game = chess.pgn.read_headers(pgn)\r\n",
    "    if(game is None):\r\n",
    "        break\r\n",
    "    header_list.append(game)\r\n"
   ],
   "outputs": [],
   "metadata": {}
  },
  {
   "cell_type": "code",
   "execution_count": null,
   "source": [
    "print(header_list[0])"
   ],
   "outputs": [],
   "metadata": {}
  },
  {
   "cell_type": "code",
   "execution_count": null,
   "source": [
    "data = []\r\n",
    "for header in header_list:\r\n",
    "    json = {'Black': header.get('Black'), 'White': header.get('White'),\r\n",
    "            'BlackElo': header.get('BlackElo'), 'WhiteElo': header.get('WhiteElo'), 'Result': header.get('Result')}\r\n",
    "    data.append(json)\r\n",
    "\r\n",
    "data = pd.DataFrame(data)\r\n",
    "data.dropna(inplace=True)\r\n",
    "\r\n",
    "data['Result'].loc[data['Result'] == '0-1'] = 'Black'\r\n",
    "data['Result'].loc[data['Result'] == '1-0'] = 'White'\r\n",
    "data['Result'].loc[data['Result'] == '1/2-1/2'] = 'Draw'\r\n",
    "\r\n",
    "data['Black'] = data['Black'].astype(str)\r\n",
    "data['White'] = data['White'].astype(str)\r\n",
    "data['Result'] = data['Result'].astype(str)\r\n",
    "\r\n",
    "data['BlackElo'] = data['BlackElo'].astype(int)\r\n",
    "data['WhiteElo'] = data['WhiteElo'].astype(int)\r\n",
    "\r\n",
    "elos = pd.DataFrame(\r\n",
    "    pd.concat([data['BlackElo'], data['WhiteElo']]), columns=['Elo'])\r\n",
    "\r\n",
    "data.to_csv('chessdb.csv')\r\n",
    "elos.to_csv('elo.csv')\r\n",
    "#sns.displot(data=elos, kde= True)\r\n"
   ],
   "outputs": [],
   "metadata": {}
  },
  {
   "cell_type": "code",
   "execution_count": 6,
   "source": [
    "kaggle.head()\r\n",
    "kaggle = kaggle.drop(columns=['white_id', 'black_id', 'fen', 'pgn'])\r\n",
    "kaggle.dropna(inplace=True)\r\n",
    "kaggle.info()\r\n"
   ],
   "outputs": [
    {
     "output_type": "stream",
     "name": "stdout",
     "text": [
      "<class 'pandas.core.frame.DataFrame'>\n",
      "Int64Index: 66879 entries, 0 to 66878\n",
      "Data columns (total 10 columns):\n",
      " #   Column          Non-Null Count  Dtype \n",
      "---  ------          --------------  ----- \n",
      " 0   white_username  66879 non-null  object\n",
      " 1   black_username  66879 non-null  object\n",
      " 2   white_rating    66879 non-null  int64 \n",
      " 3   black_rating    66879 non-null  int64 \n",
      " 4   white_result    66879 non-null  object\n",
      " 5   black_result    66879 non-null  object\n",
      " 6   time_class      66879 non-null  object\n",
      " 7   time_control    66879 non-null  object\n",
      " 8   rules           66879 non-null  object\n",
      " 9   rated           66879 non-null  bool  \n",
      "dtypes: bool(1), int64(2), object(7)\n",
      "memory usage: 5.2+ MB\n"
     ]
    }
   ],
   "metadata": {}
  },
  {
   "cell_type": "code",
   "execution_count": 7,
   "source": [
    "def check(value):\r\n",
    "    black = {'resigned', 'timeout', 'checkmated'}\r\n",
    "    draw = {'repition', 'stalemate', 'agreed', 'insufficient', 'timevsinsufficient', '50move'}\r\n",
    "    if value == 'win':\r\n",
    "        return 'White'\r\n",
    "    if value == 'abandoned':\r\n",
    "        return '*'\r\n",
    "    if value in black:\r\n",
    "        return 'Black'\r\n",
    "    if value in draw:\r\n",
    "        return 'Draw'\r\n",
    "    else: \r\n",
    "        return '*'\r\n",
    "\r\n",
    "kaggle = kaggle.loc[kaggle['rules'] == 'chess']\r\n",
    "kaggle = kaggle.loc[kaggle['rated'] == True]\r\n",
    "\r\n",
    "ratings = pd.concat([kaggle['white_rating'],\r\n",
    "                    kaggle['black_rating']])\r\n",
    "\r\n",
    "kaggle['Result'] = kaggle['white_result'].copy()\r\n",
    "kaggle['Result'] = kaggle['Result'].apply(check)\r\n",
    "\r\n",
    "\r\n"
   ],
   "outputs": [],
   "metadata": {}
  },
  {
   "cell_type": "code",
   "execution_count": 8,
   "source": [
    "chess_com.drop(columns=['id', 'moves', 'opening_eco',\r\n",
    "               'opening_name', 'opening_ply'], inplace=True)"
   ],
   "outputs": [],
   "metadata": {}
  },
  {
   "cell_type": "code",
   "execution_count": 9,
   "source": [
    "chess_com.rename(columns={'winner': 'Result'}, inplace=True)\r\n",
    "chess_com['Result'] = chess_com['Result'].apply(str.capitalize)\r\n",
    "chess_com = chess_com[chess_com['rated'] != False]\r\n",
    "chess_com.head()"
   ],
   "outputs": [
    {
     "output_type": "execute_result",
     "data": {
      "text/html": [
       "<div>\n",
       "<style scoped>\n",
       "    .dataframe tbody tr th:only-of-type {\n",
       "        vertical-align: middle;\n",
       "    }\n",
       "\n",
       "    .dataframe tbody tr th {\n",
       "        vertical-align: top;\n",
       "    }\n",
       "\n",
       "    .dataframe thead th {\n",
       "        text-align: right;\n",
       "    }\n",
       "</style>\n",
       "<table border=\"1\" class=\"dataframe\">\n",
       "  <thead>\n",
       "    <tr style=\"text-align: right;\">\n",
       "      <th></th>\n",
       "      <th>rated</th>\n",
       "      <th>created_at</th>\n",
       "      <th>last_move_at</th>\n",
       "      <th>turns</th>\n",
       "      <th>victory_status</th>\n",
       "      <th>Result</th>\n",
       "      <th>increment_code</th>\n",
       "      <th>white_id</th>\n",
       "      <th>white_rating</th>\n",
       "      <th>black_id</th>\n",
       "      <th>black_rating</th>\n",
       "    </tr>\n",
       "  </thead>\n",
       "  <tbody>\n",
       "    <tr>\n",
       "      <th>1</th>\n",
       "      <td>True</td>\n",
       "      <td>1.504130e+12</td>\n",
       "      <td>1.504130e+12</td>\n",
       "      <td>16</td>\n",
       "      <td>resign</td>\n",
       "      <td>Black</td>\n",
       "      <td>5+10</td>\n",
       "      <td>a-00</td>\n",
       "      <td>1322</td>\n",
       "      <td>skinnerua</td>\n",
       "      <td>1261</td>\n",
       "    </tr>\n",
       "    <tr>\n",
       "      <th>2</th>\n",
       "      <td>True</td>\n",
       "      <td>1.504130e+12</td>\n",
       "      <td>1.504130e+12</td>\n",
       "      <td>61</td>\n",
       "      <td>mate</td>\n",
       "      <td>White</td>\n",
       "      <td>5+10</td>\n",
       "      <td>ischia</td>\n",
       "      <td>1496</td>\n",
       "      <td>a-00</td>\n",
       "      <td>1500</td>\n",
       "    </tr>\n",
       "    <tr>\n",
       "      <th>3</th>\n",
       "      <td>True</td>\n",
       "      <td>1.504110e+12</td>\n",
       "      <td>1.504110e+12</td>\n",
       "      <td>61</td>\n",
       "      <td>mate</td>\n",
       "      <td>White</td>\n",
       "      <td>20+0</td>\n",
       "      <td>daniamurashov</td>\n",
       "      <td>1439</td>\n",
       "      <td>adivanov2009</td>\n",
       "      <td>1454</td>\n",
       "    </tr>\n",
       "    <tr>\n",
       "      <th>4</th>\n",
       "      <td>True</td>\n",
       "      <td>1.504030e+12</td>\n",
       "      <td>1.504030e+12</td>\n",
       "      <td>95</td>\n",
       "      <td>mate</td>\n",
       "      <td>White</td>\n",
       "      <td>30+3</td>\n",
       "      <td>nik221107</td>\n",
       "      <td>1523</td>\n",
       "      <td>adivanov2009</td>\n",
       "      <td>1469</td>\n",
       "    </tr>\n",
       "    <tr>\n",
       "      <th>6</th>\n",
       "      <td>True</td>\n",
       "      <td>1.504230e+12</td>\n",
       "      <td>1.504230e+12</td>\n",
       "      <td>33</td>\n",
       "      <td>resign</td>\n",
       "      <td>White</td>\n",
       "      <td>10+0</td>\n",
       "      <td>capa_jr</td>\n",
       "      <td>1520</td>\n",
       "      <td>daniel_likes_chess</td>\n",
       "      <td>1423</td>\n",
       "    </tr>\n",
       "  </tbody>\n",
       "</table>\n",
       "</div>"
      ],
      "text/plain": [
       "   rated    created_at  last_move_at  turns victory_status Result  \\\n",
       "1   True  1.504130e+12  1.504130e+12     16         resign  Black   \n",
       "2   True  1.504130e+12  1.504130e+12     61           mate  White   \n",
       "3   True  1.504110e+12  1.504110e+12     61           mate  White   \n",
       "4   True  1.504030e+12  1.504030e+12     95           mate  White   \n",
       "6   True  1.504230e+12  1.504230e+12     33         resign  White   \n",
       "\n",
       "  increment_code       white_id  white_rating            black_id  \\\n",
       "1           5+10           a-00          1322           skinnerua   \n",
       "2           5+10         ischia          1496                a-00   \n",
       "3           20+0  daniamurashov          1439        adivanov2009   \n",
       "4           30+3      nik221107          1523        adivanov2009   \n",
       "6           10+0        capa_jr          1520  daniel_likes_chess   \n",
       "\n",
       "   black_rating  \n",
       "1          1261  \n",
       "2          1500  \n",
       "3          1454  \n",
       "4          1469  \n",
       "6          1423  "
      ]
     },
     "metadata": {},
     "execution_count": 9
    }
   ],
   "metadata": {}
  },
  {
   "cell_type": "code",
   "execution_count": 10,
   "source": [
    "caissabase = caissabase[caissabase['Result'] != '*']\r\n",
    "sns.histplot(caissabase['Result'])\r\n",
    "caissabase['Result'].value_counts(normalize=True)"
   ],
   "outputs": [
    {
     "output_type": "execute_result",
     "data": {
      "text/plain": [
       "White    0.377236\n",
       "Draw     0.328831\n",
       "Black    0.293933\n",
       "Name: Result, dtype: float64"
      ]
     },
     "metadata": {},
     "execution_count": 10
    },
    {
     "output_type": "display_data",
     "data": {
      "image/png": "[encoded data removed]",
      "text/plain": [
       "<Figure size 432x288 with 1 Axes>"
      ]
     },
     "metadata": {
      "needs_background": "light"
     }
    }
   ],
   "metadata": {}
  },
  {
   "cell_type": "code",
   "execution_count": 11,
   "source": [
    "sns.histplot(chess_com['Result'])\r\n",
    "chess_com['Result'].value_counts(normalize=True)\r\n"
   ],
   "outputs": [
    {
     "output_type": "execute_result",
     "data": {
      "text/plain": [
       "White    0.498422\n",
       "Black    0.457072\n",
       "Draw     0.044506\n",
       "Name: Result, dtype: float64"
      ]
     },
     "metadata": {},
     "execution_count": 11
    },
    {
     "output_type": "display_data",
     "data": {
      "image/png": "[encoded data removed]",
      "text/plain": [
       "<Figure size 432x288 with 1 Axes>"
      ]
     },
     "metadata": {
      "needs_background": "light"
     }
    }
   ],
   "metadata": {}
  },
  {
   "cell_type": "code",
   "execution_count": 12,
   "source": [
    "nepo = caissabase[(caissabase['Black'] == 'Nepomniachtchi, I') | (caissabase['White'] == 'Nepomniachtchi, I')].copy()\r\n",
    "caruana = caissabase[(caissabase['Black'] == 'Caruana, Fabiano') | (caissabase['White'] == 'Nepomniachtchi, I')].copy()\r\n",
    "carlsen = caissabase[(caissabase['Black'] == 'Carlsen, Magnus') | (caissabase['White'] == 'Carlsen, Magnus')].copy()\r\n",
    "grischuk = caissabase[(caissabase['Black'] == 'Grischuk, Alexander') | (caissabase['White'] == 'Grischuk, Alexander')].copy()\r\n",
    "anand = caissabase[(caissabase['Black'] == 'Anand, Viswanathan') | (caissabase['White'] == 'Anand, Viswanathan')].copy()\r\n",
    "\r\n"
   ],
   "outputs": [],
   "metadata": {}
  },
  {
   "cell_type": "code",
   "execution_count": 13,
   "source": [
    "nepo['Color'] = nepo['Black'].apply(\r\n",
    "    lambda x: 'Black' if x == 'Nepomniachtchi, I' else 'White')\r\n",
    "caruana['Color'] = caruana['Black'].apply(\r\n",
    "    lambda x: 'Black' if x == 'Caruana, Fabiano' else 'White')\r\n",
    "carlsen['Color'] = carlsen['Black'].apply(\r\n",
    "    lambda x: 'Black' if x == 'Carlsen, Magnus' else 'White')\r\n",
    "grischuk['Color'] = grischuk['Black'].apply(\r\n",
    "    lambda x: 'Black' if x == 'Grischuk, Alexander' else 'White')\r\n",
    "anand['Color'] = anand['Black'].apply(\r\n",
    "    lambda x: 'Black' if x == 'Anand, Viswanathan' else 'White')\r\n"
   ],
   "outputs": [],
   "metadata": {}
  },
  {
   "cell_type": "code",
   "execution_count": 14,
   "source": [
    "nepo_cross = pd.crosstab(nepo['Color'], nepo['Result'])\r\n",
    "caru_cross = pd.crosstab(caruana['Color'], caruana['Result'])\r\n",
    "carl_cross = pd.crosstab(carlsen['Color'], carlsen['Result'])\r\n",
    "gris_cross = pd.crosstab(grischuk['Color'], grischuk['Result'])\r\n",
    "anan_cross = pd.crosstab(anand['Color'], anand['Result'])\r\n",
    "player_cross = [nepo_cross, caru_cross, carl_cross, gris_cross, anan_cross]\r\n",
    "\r\n",
    "for x in range(len(player_cross)):\r\n",
    "    tstat, p_val, dof, expected = stats.chi2_contingency(player_cross[x])\r\n",
    "    print(str(p_val) + '\\n' + str(expected) + '\\n' + str(player_cross[x]))\r\n"
   ],
   "outputs": [
    {
     "output_type": "stream",
     "name": "stdout",
     "text": [
      "7.90620964952745e-09\n",
      "[[ 93.99736148 145.94327177 135.05936675]\n",
      " [ 96.00263852 149.05672823 137.94063325]]\n",
      "Result  Black  Draw  White\n",
      "Color                     \n",
      "Black     124   151    100\n",
      "White      66   144    173\n",
      "4.733382917823222e-14\n",
      "[[295.11048557 425.86488388 317.02463054]\n",
      " [108.88951443 157.13511612 116.97536946]]\n",
      "Result  Black  Draw  White\n",
      "Color                     \n",
      "Black     338   439    261\n",
      "White      66   144    173\n",
      "5.641294981621431e-77\n",
      "[[318.22761943 484.00200723 426.77037334]\n",
      " [326.77238057 496.99799277 438.22962666]]\n",
      "Result  Black  Draw  White\n",
      "Color                     \n",
      "Black     467   543    219\n",
      "White     178   438    646\n",
      "4.423142147249426e-50\n",
      "[[301.38083363 638.56929106 456.04987531]\n",
      " [304.61916637 645.43070894 460.95012469]]\n",
      "Result  Black  Draw  White\n",
      "Color                     \n",
      "Black     417   695    284\n",
      "White     189   589    633\n",
      "9.325652752105006e-84\n",
      "[[344.19232923 896.38577828 528.4218925 ]\n",
      " [350.80767077 913.61422172 538.5781075 ]]\n",
      "Result  Black  Draw  White\n",
      "Color                     \n",
      "Black     496   992    281\n",
      "White     199   818    786\n"
     ]
    }
   ],
   "metadata": {}
  },
  {
   "cell_type": "code",
   "execution_count": 15,
   "source": [
    "fig, ax = plt.subplots(5, 2, figsize=(40, 40))\r\n",
    "for x in range(len(player_cross)):\r\n",
    "    tstat, p_val, dof, expected = stats.chi2_contingency(player_cross[x])\r\n",
    "    pd.DataFrame(player_cross[x]).plot(ax=ax[x, 0], kind='bar', title='Actual')\r\n",
    "    pd.DataFrame(expected).plot(ax=ax[x, 1], kind='bar', title='Expected')"
   ],
   "outputs": [
    {
     "output_type": "display_data",
     "data": {
      "image/png": "[encoded data removed]",
      "text/plain": [
       "<Figure size 2880x2880 with 10 Axes>"
      ]
     },
     "metadata": {
      "needs_background": "light"
     }
    }
   ],
   "metadata": {}
  },
  {
   "cell_type": "code",
   "execution_count": 16,
   "source": [
    "chess_com['time_control'] = chess_com['increment_code'].copy()\r\n",
    "chess_com['increment_code'].value_counts()\r\n",
    "chess_com['time_control'] = chess_com['time_control'].str.split('+').str[0]\r\n",
    "chess_com['time_control'] = pd.to_numeric(chess_com['time_control'])\r\n",
    "chess_com.loc[(chess_com['time_control'] <= 10), 'time_control_str'] = 'Blitz'\r\n",
    "chess_com.loc[(chess_com['time_control'] > 10), 'time_control_str'] = 'Standard'"
   ],
   "outputs": [],
   "metadata": {}
  },
  {
   "cell_type": "code",
   "execution_count": 17,
   "source": [
    "time_control_results = pd.crosstab(\r\n",
    "    chess_com['time_control_str'], chess_com['Result'])\r\n",
    "tstat, p_val, dof, expected = stats.chi2_contingency(time_control_results)\r\n",
    "pd.DataFrame(expected).plot(kind='bar', title='expected')\r\n",
    "pd.DataFrame(time_control_results).plot(kind='bar', title='actual')\r\n",
    "print(p_val)\r\n",
    "print(tstat)\r\n",
    "print(expected)\r\n",
    "print(time_control_results)\r\n"
   ],
   "outputs": [
    {
     "output_type": "stream",
     "name": "stdout",
     "text": [
      "0.0008723005252924094\n",
      "14.088753108665813\n",
      "[[5179.54119468  504.3458991  5648.11290622]\n",
      " [2204.45880532  214.6541009  2403.88709378]]\n",
      "Result            Black  Draw  White\n",
      "time_control_str                    \n",
      "Blitz              5236   462   5634\n",
      "Standard           2148   257   2418\n"
     ]
    },
    {
     "output_type": "display_data",
     "data": {
      "image/png": "[encoded data removed]",
      "text/plain": [
       "<Figure size 432x288 with 1 Axes>"
      ]
     },
     "metadata": {
      "needs_background": "light"
     }
    },
    {
     "output_type": "display_data",
     "data": {
      "image/png": "[encoded data removed]",
      "text/plain": [
       "<Figure size 432x288 with 1 Axes>"
      ]
     },
     "metadata": {
      "needs_background": "light"
     }
    }
   ],
   "metadata": {}
  },
  {
   "cell_type": "code",
   "execution_count": 18,
   "source": [
    "chess_com.head()\r\n",
    "chess_com.rename(columns={'black_id': 'Black', 'white_id': 'White',\t'black_rating': 'BlackElo',\t'white_rating':'WhiteElo'}, inplace=True)\r\n",
    "chess_com.loc[chess_com['Result'] == 'Black','Winner_Elo'] = chess_com['BlackElo']\r\n",
    "chess_com.loc[chess_com['Result'] == 'White','Winner_Elo'] = chess_com['WhiteElo']\r\n",
    "chess_com.loc[chess_com['Result'] == 'Draw', 'Winner_Elo'] = 0\r\n",
    "chess_com['Black'] = chess_com['Black'].astype(str)\r\n",
    "chess_com['White'] = chess_com['White'].astype(str)\r\n",
    "chess_com['Result'] = chess_com['Result'].astype(str)\r\n",
    "\r\n",
    "chess_com['BlackElo'] = chess_com['BlackElo'].astype(int)\r\n",
    "chess_com['WhiteElo'] = chess_com['WhiteElo'].astype(int)\r\n",
    "chess_com.info()\r\n"
   ],
   "outputs": [
    {
     "output_type": "stream",
     "name": "stdout",
     "text": [
      "<class 'pandas.core.frame.DataFrame'>\n",
      "Int64Index: 16155 entries, 1 to 20057\n",
      "Data columns (total 14 columns):\n",
      " #   Column            Non-Null Count  Dtype  \n",
      "---  ------            --------------  -----  \n",
      " 0   rated             16155 non-null  bool   \n",
      " 1   created_at        16155 non-null  float64\n",
      " 2   last_move_at      16155 non-null  float64\n",
      " 3   turns             16155 non-null  int64  \n",
      " 4   victory_status    16155 non-null  object \n",
      " 5   Result            16155 non-null  object \n",
      " 6   increment_code    16155 non-null  object \n",
      " 7   White             16155 non-null  object \n",
      " 8   WhiteElo          16155 non-null  int32  \n",
      " 9   Black             16155 non-null  object \n",
      " 10  BlackElo          16155 non-null  int32  \n",
      " 11  time_control      16155 non-null  int64  \n",
      " 12  time_control_str  16155 non-null  object \n",
      " 13  Winner_Elo        16155 non-null  float64\n",
      "dtypes: bool(1), float64(3), int32(2), int64(2), object(6)\n",
      "memory usage: 2.1+ MB\n"
     ]
    }
   ],
   "metadata": {}
  },
  {
   "cell_type": "code",
   "execution_count": 19,
   "source": [
    "caissabase.drop('Unnamed: 0', axis=1, inplace=True)\r\n",
    "caissabase.loc[caissabase['Result'] == 'Black', 'Winner_Elo'] = caissabase['BlackElo'] \r\n",
    "caissabase.loc[caissabase['Result'] == 'White', 'Winner_Elo'] = caissabase['WhiteElo']\r\n",
    "caissabase.loc[caissabase['Result'] == 'Draw','Winner_Elo'] = 0\r\n",
    "\r\n",
    "#this is an assumption\r\n",
    "caissabase['time_control_str'] = 'Standard'\r\n",
    "caissabase.head()\r\n"
   ],
   "outputs": [
    {
     "output_type": "execute_result",
     "data": {
      "text/html": [
       "<div>\n",
       "<style scoped>\n",
       "    .dataframe tbody tr th:only-of-type {\n",
       "        vertical-align: middle;\n",
       "    }\n",
       "\n",
       "    .dataframe tbody tr th {\n",
       "        vertical-align: top;\n",
       "    }\n",
       "\n",
       "    .dataframe thead th {\n",
       "        text-align: right;\n",
       "    }\n",
       "</style>\n",
       "<table border=\"1\" class=\"dataframe\">\n",
       "  <thead>\n",
       "    <tr style=\"text-align: right;\">\n",
       "      <th></th>\n",
       "      <th>Black</th>\n",
       "      <th>White</th>\n",
       "      <th>BlackElo</th>\n",
       "      <th>WhiteElo</th>\n",
       "      <th>Result</th>\n",
       "      <th>Winner_Elo</th>\n",
       "      <th>time_control_str</th>\n",
       "    </tr>\n",
       "  </thead>\n",
       "  <tbody>\n",
       "    <tr>\n",
       "      <th>0</th>\n",
       "      <td>Guseva, Marina</td>\n",
       "      <td>Markelova, L</td>\n",
       "      <td>2409</td>\n",
       "      <td>2190</td>\n",
       "      <td>Black</td>\n",
       "      <td>2409.0</td>\n",
       "      <td>Standard</td>\n",
       "    </tr>\n",
       "    <tr>\n",
       "      <th>1</th>\n",
       "      <td>Shariyazdanov, A</td>\n",
       "      <td>Ozgibcev, A</td>\n",
       "      <td>2526</td>\n",
       "      <td>2368</td>\n",
       "      <td>White</td>\n",
       "      <td>2368.0</td>\n",
       "      <td>Standard</td>\n",
       "    </tr>\n",
       "    <tr>\n",
       "      <th>2</th>\n",
       "      <td>Linker, M</td>\n",
       "      <td>Moiseenko, Va</td>\n",
       "      <td>2269</td>\n",
       "      <td>2492</td>\n",
       "      <td>Draw</td>\n",
       "      <td>0.0</td>\n",
       "      <td>Standard</td>\n",
       "    </tr>\n",
       "    <tr>\n",
       "      <th>3</th>\n",
       "      <td>Nepomniachtchi, I</td>\n",
       "      <td>Tekeyev, Z</td>\n",
       "      <td>2759</td>\n",
       "      <td>2392</td>\n",
       "      <td>Black</td>\n",
       "      <td>2759.0</td>\n",
       "      <td>Standard</td>\n",
       "    </tr>\n",
       "    <tr>\n",
       "      <th>4</th>\n",
       "      <td>Drozdova, D</td>\n",
       "      <td>Guseva, Marina</td>\n",
       "      <td>2183</td>\n",
       "      <td>2409</td>\n",
       "      <td>Draw</td>\n",
       "      <td>0.0</td>\n",
       "      <td>Standard</td>\n",
       "    </tr>\n",
       "  </tbody>\n",
       "</table>\n",
       "</div>"
      ],
      "text/plain": [
       "               Black           White  BlackElo  WhiteElo Result  Winner_Elo  \\\n",
       "0     Guseva, Marina    Markelova, L      2409      2190  Black      2409.0   \n",
       "1   Shariyazdanov, A     Ozgibcev, A      2526      2368  White      2368.0   \n",
       "2          Linker, M   Moiseenko, Va      2269      2492   Draw         0.0   \n",
       "3  Nepomniachtchi, I      Tekeyev, Z      2759      2392  Black      2759.0   \n",
       "4        Drozdova, D  Guseva, Marina      2183      2409   Draw         0.0   \n",
       "\n",
       "  time_control_str  \n",
       "0         Standard  \n",
       "1         Standard  \n",
       "2         Standard  \n",
       "3         Standard  \n",
       "4         Standard  "
      ]
     },
     "metadata": {},
     "execution_count": 19
    }
   ],
   "metadata": {}
  },
  {
   "cell_type": "code",
   "execution_count": 24,
   "source": [
    "kaggle.rename(columns={'white_username': 'Black', 'black_username': 'White',\r\n",
    "                       'black_rating': 'BlackElo', 'white_rating': 'WhiteElo'}, inplace=True)\r\n",
    "kaggle.loc[kaggle['Result'] == 'Black',\r\n",
    "           'Winner_Elo'] = kaggle['BlackElo']\r\n",
    "kaggle.loc[kaggle['Result'] == 'White',\r\n",
    "           'Winner_Elo'] = kaggle['WhiteElo']\r\n",
    "kaggle.loc[kaggle['Result'] == 'Draw', 'Winner_Elo'] = 0\r\n"
   ],
   "outputs": [
    {
     "output_type": "execute_result",
     "data": {
      "text/html": [
       "<div>\n",
       "<style scoped>\n",
       "    .dataframe tbody tr th:only-of-type {\n",
       "        vertical-align: middle;\n",
       "    }\n",
       "\n",
       "    .dataframe tbody tr th {\n",
       "        vertical-align: top;\n",
       "    }\n",
       "\n",
       "    .dataframe thead th {\n",
       "        text-align: right;\n",
       "    }\n",
       "</style>\n",
       "<table border=\"1\" class=\"dataframe\">\n",
       "  <thead>\n",
       "    <tr style=\"text-align: right;\">\n",
       "      <th></th>\n",
       "      <th>Black</th>\n",
       "      <th>White</th>\n",
       "      <th>WhiteElo</th>\n",
       "      <th>BlackElo</th>\n",
       "      <th>white_result</th>\n",
       "      <th>black_result</th>\n",
       "      <th>time_class</th>\n",
       "      <th>time_control</th>\n",
       "      <th>rules</th>\n",
       "      <th>rated</th>\n",
       "      <th>Result</th>\n",
       "      <th>Winner_Elo</th>\n",
       "    </tr>\n",
       "  </thead>\n",
       "  <tbody>\n",
       "    <tr>\n",
       "      <th>0</th>\n",
       "      <td>-Amos-</td>\n",
       "      <td>miniman2804</td>\n",
       "      <td>1708</td>\n",
       "      <td>1608</td>\n",
       "      <td>win</td>\n",
       "      <td>checkmated</td>\n",
       "      <td>daily</td>\n",
       "      <td>1/259200</td>\n",
       "      <td>chess</td>\n",
       "      <td>True</td>\n",
       "      <td>White</td>\n",
       "      <td>1708.0</td>\n",
       "    </tr>\n",
       "    <tr>\n",
       "      <th>1</th>\n",
       "      <td>-Amos-</td>\n",
       "      <td>koltcho69</td>\n",
       "      <td>1726</td>\n",
       "      <td>1577</td>\n",
       "      <td>win</td>\n",
       "      <td>resigned</td>\n",
       "      <td>daily</td>\n",
       "      <td>1/172800</td>\n",
       "      <td>chess</td>\n",
       "      <td>True</td>\n",
       "      <td>White</td>\n",
       "      <td>1726.0</td>\n",
       "    </tr>\n",
       "    <tr>\n",
       "      <th>2</th>\n",
       "      <td>-Amos-</td>\n",
       "      <td>enhmandah</td>\n",
       "      <td>1727</td>\n",
       "      <td>842</td>\n",
       "      <td>win</td>\n",
       "      <td>resigned</td>\n",
       "      <td>daily</td>\n",
       "      <td>1/172800</td>\n",
       "      <td>chess</td>\n",
       "      <td>True</td>\n",
       "      <td>White</td>\n",
       "      <td>1727.0</td>\n",
       "    </tr>\n",
       "    <tr>\n",
       "      <th>3</th>\n",
       "      <td>enhmandah</td>\n",
       "      <td>-Amos-</td>\n",
       "      <td>819</td>\n",
       "      <td>1727</td>\n",
       "      <td>checkmated</td>\n",
       "      <td>win</td>\n",
       "      <td>daily</td>\n",
       "      <td>1/172800</td>\n",
       "      <td>chess</td>\n",
       "      <td>True</td>\n",
       "      <td>Black</td>\n",
       "      <td>1727.0</td>\n",
       "    </tr>\n",
       "    <tr>\n",
       "      <th>4</th>\n",
       "      <td>-Amos-</td>\n",
       "      <td>Shalllow-Blue</td>\n",
       "      <td>1729</td>\n",
       "      <td>1116</td>\n",
       "      <td>win</td>\n",
       "      <td>resigned</td>\n",
       "      <td>daily</td>\n",
       "      <td>1/172800</td>\n",
       "      <td>chess</td>\n",
       "      <td>True</td>\n",
       "      <td>White</td>\n",
       "      <td>1729.0</td>\n",
       "    </tr>\n",
       "  </tbody>\n",
       "</table>\n",
       "</div>"
      ],
      "text/plain": [
       "       Black          White  WhiteElo  BlackElo white_result black_result  \\\n",
       "0     -Amos-    miniman2804      1708      1608          win   checkmated   \n",
       "1     -Amos-      koltcho69      1726      1577          win     resigned   \n",
       "2     -Amos-      enhmandah      1727       842          win     resigned   \n",
       "3  enhmandah         -Amos-       819      1727   checkmated          win   \n",
       "4     -Amos-  Shalllow-Blue      1729      1116          win     resigned   \n",
       "\n",
       "  time_class time_control  rules  rated Result  Winner_Elo  \n",
       "0      daily     1/259200  chess   True  White      1708.0  \n",
       "1      daily     1/172800  chess   True  White      1726.0  \n",
       "2      daily     1/172800  chess   True  White      1727.0  \n",
       "3      daily     1/172800  chess   True  Black      1727.0  \n",
       "4      daily     1/172800  chess   True  White      1729.0  "
      ]
     },
     "metadata": {},
     "execution_count": 24
    }
   ],
   "metadata": {}
  },
  {
   "cell_type": "code",
   "execution_count": 56,
   "source": [
    "concat = pd.concat([caissabase,chess_com], axis=0, join='inner')\r\n",
    "concat.head()\r\n",
    "concat.reset_index(inplace=True)\r\n",
    "concat.info()"
   ],
   "outputs": [
    {
     "output_type": "stream",
     "name": "stdout",
     "text": [
      "<class 'pandas.core.frame.DataFrame'>\n",
      "RangeIndex: 3127486 entries, 0 to 3127485\n",
      "Data columns (total 8 columns):\n",
      " #   Column            Dtype  \n",
      "---  ------            -----  \n",
      " 0   index             int64  \n",
      " 1   Black             object \n",
      " 2   White             object \n",
      " 3   BlackElo          int64  \n",
      " 4   WhiteElo          int64  \n",
      " 5   Result            object \n",
      " 6   Winner_Elo        float64\n",
      " 7   time_control_str  object \n",
      "dtypes: float64(1), int64(3), object(4)\n",
      "memory usage: 190.9+ MB\n"
     ]
    }
   ],
   "metadata": {}
  },
  {
   "cell_type": "code",
   "execution_count": 143,
   "source": [
    "def categorize(value):\r\n",
    "    if value <= 1200:\r\n",
    "        return 'Novice'\r\n",
    "    if value <= 1400:\r\n",
    "        return 'Cat4'\r\n",
    "    if value <= 1600:\r\n",
    "        return 'Cat3'\r\n",
    "    if value <= 1800:\r\n",
    "        return 'Cat2'\r\n",
    "    if value <= 2000:\r\n",
    "        return 'Cat1'\r\n",
    "    if value <= 2200:\r\n",
    "        return 'CM' \r\n",
    "    if value <= 2300:\r\n",
    "        return 'FM/NM'\r\n",
    "    if value <= 2400:\r\n",
    "        return 'IM/GM'\r\n",
    "    if value <= 2500:\r\n",
    "        return 'GM'\r\n",
    "    if value <= 2700:\r\n",
    "        return 'SGM'\r\n",
    "\r\n",
    "\r\n",
    "\r\n",
    "\r\n",
    "concat = pd.concat([caissabase, chess_com, kaggle], axis=0, join='inner')\r\n",
    "concat.reset_index(inplace=True)\r\n",
    "\r\n",
    "win_lose = concat[concat['Winner_Elo'] != 0.0].copy()\r\n",
    "win_lose['Category'] = win_lose['Winner_Elo'].apply(categorize)\r\n",
    "\r\n",
    "cross = pd.DataFrame(pd.crosstab(win_lose['Category'], win_lose['Result']))\r\n",
    "cross_norm = pd.DataFrame(pd.crosstab(win_lose['Category'], win_lose['Result'], margins=True, normalize='index'))\r\n",
    "cross.plot(kind='bar', title='actual')\r\n",
    "tstat, p_val, dof, expected = stats.chi2_contingency(cross)\r\n",
    "\r\n",
    "expected_cross = pd.DataFrame(expected,columns=['Black', 'White'])\r\n",
    "expected_cross['Category'] = pd.DataFrame(['CM','Cat1','Cat2','Cat3','Cat4','FN/NM','GM','IM/GM','Novice', 'SGM'])\r\n",
    "expected_cross.plot.bar(title='expected', x='Category')\r\n"
   ],
   "outputs": [
    {
     "output_type": "execute_result",
     "data": {
      "text/plain": [
       "<AxesSubplot:title={'center':'expected'}, xlabel='Category'>"
      ]
     },
     "metadata": {},
     "execution_count": 143
    },
    {
     "output_type": "display_data",
     "data": {
      "image/png": "[encoded data removed]",
      "text/plain": [
       "<Figure size 432x288 with 1 Axes>"
      ]
     },
     "metadata": {
      "needs_background": "light"
     }
    },
    {
     "output_type": "display_data",
     "data": {
      "image/png": "[encoded data removed]",
      "text/plain": [
       "<Figure size 432x288 with 1 Axes>"
      ]
     },
     "metadata": {
      "needs_background": "light"
     }
    }
   ],
   "metadata": {}
  }
 ],
 "metadata": {
  "orig_nbformat": 4,
  "language_info": {
   "name": "python",
   "version": "3.9.6",
   "mimetype": "text/x-python",
   "codemirror_mode": {
    "name": "ipython",
    "version": 3
   },
   "pygments_lexer": "ipython3",
   "nbconvert_exporter": "python",
   "file_extension": ".py"
  },
  "kernelspec": {
   "name": "python3",
   "display_name": "Python 3.9.6 64-bit"
  },
  "interpreter": {
   "hash": "4b7a67c094ca4859574ab7812cb20959fc8d8ba5f9f349a7149ef35bab6b6336"
  }
 },
 "nbformat": 4,
 "nbformat_minor": 2
}